{
 "cells": [
  {
   "cell_type": "markdown",
   "metadata": {},
   "source": [
    "## Transformation: Cropping images\n",
    "\n",
    "Let's start with a very simple operation: cropping. Cropping is the action to cut a part of the image to reframe it.\n",
    "\n",
    "In order to crop an image, we need to copy in a new image the pixels we want to keep. Let origin be the coordinate of upper-left corner and end the coordinate of the bottom-right corner. The pixel at coordinate `(x, y)` in the new image is equal to the pixel located at coordinate `(x + origin.x, y + origin.y)` in the old image."
   ]
  },
  {
   "cell_type": "code",
   "execution_count": 9,
   "metadata": {},
   "outputs": [],
   "source": [
    "from PIL import Image, ImageDraw\n",
    "import matplotlib.pyplot as plt\n",
    "\n",
    "# Load image:\n",
    "input_image = Image.open(\"lenna.png\")\n",
    "input_pixels = input_image.load()\n",
    "\n",
    "# Cropped area\n",
    "origin = (130, 150)\n",
    "end = (400, 320)\n",
    "\n",
    "# Create output image\n",
    "output_image = Image.new(\"RGB\", (end[0] - origin[0], end[1] - origin[1]))\n",
    "draw = ImageDraw.Draw(output_image)\n",
    "\n",
    "# Copy pixels\n",
    "for x in range(output_image.width):\n",
    "    for y in range(output_image.height):\n",
    "        xp, yp = x + origin[0], y + origin[1]\n",
    "        draw.point((x, y), input_pixels[xp, yp])\n",
    "\n",
    "output_image.save(\"cropped.png\")"
   ]
  },
  {
   "cell_type": "markdown",
   "metadata": {},
   "source": [
    "## Transformation: Scaling\n",
    "\n",
    "Scaling is used to change the size of the image. It can be a scale down or up. There are several methods available to interpolate the pixels. We will use the simplest possible algorithm: Nearest Neighbor. Feel free to implement other algorithms such as the Bilinear algorithm, Box sampling, Fourier transform...\n",
    "\n",
    "To compute the rescaled image, we need the ratio for both horizontal and vertical axes: `x_ratio = old_img.x / new_img.x` and `y_ratio = old_img.y / new_img.y`. The pixel at coordinate `(x, y)` in the new image is equal to the pixel that is located at coordinate `(floor(x * x_ratio), floor(y * y_ratio))`."
   ]
  },
  {
   "cell_type": "code",
   "execution_count": 10,
   "metadata": {},
   "outputs": [],
   "source": [
    "from PIL import Image, ImageDraw\n",
    "from math import floor\n",
    "\n",
    "# Load image:\n",
    "input_image = Image.open(\"lenna.png\")\n",
    "input_pixels = input_image.load()\n",
    "\n",
    "new_size = (300, 300)\n",
    "\n",
    "# Create output image\n",
    "output_image = Image.new(\"RGB\", new_size)\n",
    "draw = ImageDraw.Draw(output_image)\n",
    "\n",
    "x_scale = input_image.width / output_image.width\n",
    "y_scale = input_image.height / output_image.height\n",
    "\n",
    "# Copy pixels\n",
    "for x in range(output_image.width):\n",
    "    for y in range(output_image.height):\n",
    "        xp, yp = floor(x * x_scale), floor(y * y_scale)\n",
    "        draw.point((x, y), input_pixels[xp, yp])\n",
    "\n",
    "output_image.save(\"scaled.png\")"
   ]
  },
  {
   "cell_type": "markdown",
   "metadata": {},
   "source": [
    "## Transformation: Flipping\n",
    "\n",
    "A flip (mirror effect) is done by reversing the pixels horizontally or vertically. For instance, for an horizontal flip, the pixel situated at coordinate `(x, y)` will be situated at coordinate `(width - x - 1, y)` in the new image."
   ]
  },
  {
   "cell_type": "code",
   "execution_count": 11,
   "metadata": {},
   "outputs": [],
   "source": [
    "from PIL import Image, ImageDraw\n",
    "\n",
    "# Load image:\n",
    "input_image = Image.open(\"lenna.png\")\n",
    "input_pixels = input_image.load()\n",
    "\n",
    "# Create output image\n",
    "output_image = Image.new(\"RGB\", input_image.size)\n",
    "draw = ImageDraw.Draw(output_image)\n",
    "\n",
    "# Copy pixels\n",
    "for x in range(output_image.width):\n",
    "    for y in range(output_image.height):\n",
    "        xp = input_image.width - x - 1\n",
    "        draw.point((x, y), input_pixels[xp, y])\n",
    "\n",
    "output_image.save(\"flipped.png\")"
   ]
  },
  {
   "cell_type": "markdown",
   "metadata": {},
   "source": [
    "## Transformation: Rotating\n",
    "\n",
    "The algorithm used for a rotation is similar to a flip: to compute the new image, we iterate over all the pixels and print the corresponding pixel from the source image.\n",
    "\n",
    "The point situated at the coordinates (x, y) in the new image is equal to the point (xp, yp) in the input image:\n",
    "```\n",
    "xp = x * cos(angle) - y * sin(angle)\n",
    "yp = x * sin(angle) + y * cos(angle)\n",
    "```\n",
    "If (xp, yp) is out of the input image, it is ignored (black pixel).\n",
    "\n",
    "This can be used to do a rotation, however, the center of the rotation will be at coordinate (0, 0). In order to change the coordinates of the center of the rotation, we need to shift the coordinates before the rotation and after the rotation:\n",
    "\n",
    "```\n",
    "xp = (x - center_x) * cos(angle) - (y - center_y) * sin(angle) + center_x\n",
    "yp = (x - center_x) * sin(angle) + (y - center_y) * cos(angle) + center_y\n",
    "```"
   ]
  },
  {
   "cell_type": "code",
   "execution_count": 13,
   "metadata": {},
   "outputs": [],
   "source": [
    "from PIL import Image, ImageDraw\n",
    "from math import sin, cos, pi\n",
    "\n",
    "\n",
    "# Load image:\n",
    "input_image = Image.open(\"lenna.png\")\n",
    "input_pixels = input_image.load()\n",
    "\n",
    "# Create output image\n",
    "output_image = Image.new(\"RGB\", input_image.size)\n",
    "draw = ImageDraw.Draw(output_image)\n",
    "\n",
    "angle = pi / 3  # angle in radian\n",
    "center_x = input_image.width / 2\n",
    "center_y = input_image.height / 2\n",
    "\n",
    "# Copy pixels\n",
    "for x in range(input_image.width):\n",
    "    for y in range(input_image.height):\n",
    "        # Compute coordinate in input image\n",
    "        xp = int((x - center_x) * cos(angle) - (y - center_y) * sin(angle) + center_x)\n",
    "        yp = int((x - center_x) * sin(angle) + (y - center_y) * cos(angle) + center_y)\n",
    "        if 0 <= xp < input_image.width and 0 <= yp < input_image.height:\n",
    "            draw.point((x, y), input_pixels[xp, yp])\n",
    "\n",
    "output_image.save(\"rotated.png\")"
   ]
  },
  {
   "cell_type": "markdown",
   "metadata": {},
   "source": [
    "## Colors: Luminosity\n",
    "\n",
    "Changing the luminosity of a picture in a RGB mode can be done by adding a constant to each color component. However, this is a very simplified algorithm: the perceived luminosity has not an easy definition and there are several ways to estimate the luminosity of a pixel. Note that it is also possible to change from RGB to HSL to modify the luminosity easily."
   ]
  },
  {
   "cell_type": "code",
   "execution_count": 14,
   "metadata": {},
   "outputs": [],
   "source": [
    "from PIL import Image, ImageDraw\n",
    "\n",
    "# Change this:\n",
    "luminosity = 80\n",
    "\n",
    "# Load image:\n",
    "input_image = Image.open(\"lenna.png\")\n",
    "input_pixels = input_image.load()\n",
    "\n",
    "# Create output image\n",
    "output_image = Image.new(\"RGB\", input_image.size)\n",
    "draw = ImageDraw.Draw(output_image)\n",
    "\n",
    "# Generate image\n",
    "for x in range(output_image.width):\n",
    "    for y in range(output_image.height):\n",
    "        r, g, b = input_pixels[x, y]\n",
    "        r = int(r + luminosity)\n",
    "        g = int(g + luminosity)\n",
    "        b = int(b + luminosity)\n",
    "        draw.point((x, y), (r, g, b))\n",
    "\n",
    "output_image.save(\"luminosity.png\")"
   ]
  },
  {
   "attachments": {
    "image.png": {
     "image/png": "[encoded data removed]"
    }
   },
   "cell_type": "markdown",
   "metadata": {},
   "source": [
    "## Colors: Contrast\n",
    "\n",
    "The contrast is the difference in brightness (or color) that makes the objects in a picture distinguishable. The intensity histogram of an image is the distribution of pixel luminance for an image. In order to improve the contrast, we can use a linear normalization of the intensity histogram:\n",
    "![image.png](attachment:image.png)\n",
    ", where `In` is the normalized pixel intensity, `Imin` and `Imax` are the minimum and maximum intensity (before normalization)."
   ]
  },
  {
   "cell_type": "code",
   "execution_count": 15,
   "metadata": {},
   "outputs": [],
   "source": [
    "from PIL import Image, ImageDraw\n",
    "\n",
    "# Load image:\n",
    "input_image = Image.open(\"lenna.png\")\n",
    "input_pixels = input_image.load()\n",
    "\n",
    "# Create output image\n",
    "output_image = Image.new(\"RGB\", input_image.size)\n",
    "draw = ImageDraw.Draw(output_image)\n",
    "\n",
    "# Find minimum and maximum luminosity\n",
    "imin = 255\n",
    "imax = 0\n",
    "for x in range(input_image.width):\n",
    "    for y in range(input_image.height):\n",
    "        r, g, b = input_pixels[x, y]\n",
    "        i = (r + g + b) / 3\n",
    "        imin = min(imin, i)\n",
    "        imax = max(imax, i)\n",
    "\n",
    "# Generate image\n",
    "for x in range(output_image.width):\n",
    "    for y in range(output_image.height):\n",
    "        r, g, b = input_pixels[x, y]\n",
    "        # Current luminosity\n",
    "        i = (r + g + b) / 3\n",
    "        # New luminosity\n",
    "        ip = 255 * (i - imin) / (imax - imin)\n",
    "        r = int(r * ip / i)\n",
    "        g = int(g * ip / i)\n",
    "        b = int(b * ip / i)\n",
    "        draw.point((x, y), (r, g, b))\n",
    "\n",
    "output_image.save(\"contrast.png\")"
   ]
  },
  {
   "cell_type": "markdown",
   "metadata": {},
   "source": [
    "## Colors: Colorize\n",
    "\n",
    "In the previous example, we saw how to adjust the color of the pixels. This can be used to change the color balance for instance. In the next example, we detect the pixels whose color is close to blue (0, 0, 255) by computing a distance, and we reduce the value of the red and blue components and increase the green component."
   ]
  },
  {
   "cell_type": "code",
   "execution_count": 16,
   "metadata": {},
   "outputs": [],
   "source": [
    "from PIL import Image, ImageDraw\n",
    "\n",
    "# Square distance between 2 colors\n",
    "def distance2(color1, color2):\n",
    "    r1, g1, b1 = color1\n",
    "    r2, g2, b2 = color2\n",
    "    return (r1 - r2) ** 2 + (g1 - g2) ** 2 + (b1 - b2) ** 2\n",
    "\n",
    "color_to_change = (0, 0, 255)\n",
    "threshold = 220\n",
    "\n",
    "# Load image:\n",
    "input_image = Image.open(\"lenna.png\")\n",
    "input_pixels = input_image.load()\n",
    "\n",
    "# Create output image\n",
    "output_image = Image.new(\"RGB\", input_image.size)\n",
    "draw = ImageDraw.Draw(output_image)\n",
    "\n",
    "# Generate image\n",
    "for x in range(output_image.width):\n",
    "    for y in range(output_image.height):\n",
    "        r, g, b = input_pixels[x, y]\n",
    "        if distance2(color_to_change, input_pixels[x, y]) < threshold ** 2:\n",
    "            r = int(r * .5)\n",
    "            g = int(g * 1.25)\n",
    "            b = int(b * .5)\n",
    "        draw.point((x, y), (r, g, b))\n",
    "\n",
    "output_image.save(\"colorized.png\")"
   ]
  },
  {
   "attachments": {
    "image.png": {
     "image/png": "[encoded data removed]"
    }
   },
   "cell_type": "markdown",
   "metadata": {},
   "source": [
    "## Filtering: Blurring\n",
    "\n",
    "A simple blur can be done using this kernel:\n",
    "![image.png](attachment:image.png)\n",
    "This is called the Box Blur. Each pixel is computed as the average of the surrounding pixels.\n",
    "And here is the kernel for the Gaussian Blur:\n",
    "![image.png](attachment:image.png)\n",
    "As you can see, it's a weighted mean of the surrounding pixels that gives more weight to the pixel near the current pixel. This kind of filter is also called a low-pass filter."
   ]
  },
  {
   "cell_type": "code",
   "execution_count": 17,
   "metadata": {},
   "outputs": [],
   "source": [
    "from PIL import Image, ImageDraw\n",
    "\n",
    "# Load image:\n",
    "input_image = Image.open(\"lenna.png\")\n",
    "input_pixels = input_image.load()\n",
    "\n",
    "# Box Blur kernel\n",
    "box_kernel = [[1 / 9, 1 / 9, 1 / 9],\n",
    "              [1 / 9, 1 / 9, 1 / 9],\n",
    "              [1 / 9, 1 / 9, 1 / 9]]\n",
    "\n",
    "# Gaussian kernel\n",
    "gaussian_kernel = [[1 / 256, 4  / 256,  6 / 256,  4 / 256, 1 / 256],\n",
    "                   [4 / 256, 16 / 256, 24 / 256, 16 / 256, 4 / 256],\n",
    "                   [6 / 256, 24 / 256, 36 / 256, 24 / 256, 6 / 256],\n",
    "                   [4 / 256, 16 / 256, 24 / 256, 16 / 256, 4 / 256],\n",
    "                   [1 / 256, 4  / 256,  6 / 256,  4 / 256, 1 / 256]]\n",
    "\n",
    "# Select kernel here:\n",
    "kernel = box_kernel\n",
    "\n",
    "# Middle of the kernel\n",
    "offset = len(kernel) // 2\n",
    "\n",
    "# Create output image\n",
    "output_image = Image.new(\"RGB\", input_image.size)\n",
    "draw = ImageDraw.Draw(output_image)\n",
    "\n",
    "# Compute convolution between intensity and kernels\n",
    "for x in range(offset, input_image.width - offset):\n",
    "    for y in range(offset, input_image.height - offset):\n",
    "        acc = [0, 0, 0]\n",
    "        for a in range(len(kernel)):\n",
    "            for b in range(len(kernel)):\n",
    "                xn = x + a - offset\n",
    "                yn = y + b - offset\n",
    "                pixel = input_pixels[xn, yn]\n",
    "                acc[0] += pixel[0] * kernel[a][b]\n",
    "                acc[1] += pixel[1] * kernel[a][b]\n",
    "                acc[2] += pixel[2] * kernel[a][b]\n",
    "\n",
    "        draw.point((x, y), (int(acc[0]), int(acc[1]), int(acc[2])))\n",
    "    \n",
    "output_image.save(\"blurred.png\")"
   ]
  },
  {
   "cell_type": "code",
   "execution_count": null,
   "metadata": {},
   "outputs": [],
   "source": []
  }
 ],
 "metadata": {
  "kernelspec": {
   "display_name": "Python 3",
   "language": "python",
   "name": "python3"
  },
  "language_info": {
   "codemirror_mode": {
    "name": "ipython",
    "version": 3
   },
   "file_extension": ".py",
   "mimetype": "text/x-python",
   "name": "python",
   "nbconvert_exporter": "python",
   "pygments_lexer": "ipython3",
   "version": "3.6.6"
  }
 },
 "nbformat": 4,
 "nbformat_minor": 2
}
