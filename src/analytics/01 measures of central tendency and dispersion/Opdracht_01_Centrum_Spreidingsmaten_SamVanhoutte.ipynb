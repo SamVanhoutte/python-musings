{
 "cells": [
  {
   "cell_type": "markdown",
   "metadata": {},
   "source": [
    "# Opdracht Centrum- en spreidingsmaten"
   ]
  },
  {
   "cell_type": "code",
   "execution_count": 1,
   "metadata": {},
   "outputs": [],
   "source": [
    "%matplotlib inline\n",
    "from pandas import *\n",
    "from statistics import mode\n",
    "from scipy.stats import iqr\n",
    "import matplotlib.pyplot as plt\n",
    "import pandas as pd\n",
    "import numpy as np\n",
    "import seaborn as sns\n",
    "import math"
   ]
  },
  {
   "cell_type": "code",
   "execution_count": 2,
   "metadata": {},
   "outputs": [
    {
     "data": {
      "text/html": [
       "<div>\n",
       "<style scoped>\n",
       "    .dataframe tbody tr th:only-of-type {\n",
       "        vertical-align: middle;\n",
       "    }\n",
       "\n",
       "    .dataframe tbody tr th {\n",
       "        vertical-align: top;\n",
       "    }\n",
       "\n",
       "    .dataframe thead th {\n",
       "        text-align: right;\n",
       "    }\n",
       "</style>\n",
       "<table border=\"1\" class=\"dataframe\">\n",
       "  <thead>\n",
       "    <tr style=\"text-align: right;\">\n",
       "      <th></th>\n",
       "      <th>gender</th>\n",
       "      <th>ethnicity</th>\n",
       "      <th>parental_level_of_education</th>\n",
       "      <th>lunch</th>\n",
       "      <th>test_preparation_course</th>\n",
       "      <th>math_score</th>\n",
       "      <th>reading_score</th>\n",
       "      <th>writing_score</th>\n",
       "    </tr>\n",
       "  </thead>\n",
       "  <tbody>\n",
       "    <tr>\n",
       "      <td>0</td>\n",
       "      <td>female</td>\n",
       "      <td>group_B</td>\n",
       "      <td>bachelor's degree</td>\n",
       "      <td>standard</td>\n",
       "      <td>none</td>\n",
       "      <td>72</td>\n",
       "      <td>72</td>\n",
       "      <td>74</td>\n",
       "    </tr>\n",
       "    <tr>\n",
       "      <td>1</td>\n",
       "      <td>female</td>\n",
       "      <td>group_C</td>\n",
       "      <td>some college</td>\n",
       "      <td>standard</td>\n",
       "      <td>completed</td>\n",
       "      <td>69</td>\n",
       "      <td>90</td>\n",
       "      <td>88</td>\n",
       "    </tr>\n",
       "    <tr>\n",
       "      <td>2</td>\n",
       "      <td>female</td>\n",
       "      <td>group_B</td>\n",
       "      <td>master's degree</td>\n",
       "      <td>standard</td>\n",
       "      <td>none</td>\n",
       "      <td>90</td>\n",
       "      <td>95</td>\n",
       "      <td>93</td>\n",
       "    </tr>\n",
       "    <tr>\n",
       "      <td>3</td>\n",
       "      <td>male</td>\n",
       "      <td>group_A</td>\n",
       "      <td>associate's degree</td>\n",
       "      <td>free/reduced</td>\n",
       "      <td>none</td>\n",
       "      <td>47</td>\n",
       "      <td>57</td>\n",
       "      <td>44</td>\n",
       "    </tr>\n",
       "    <tr>\n",
       "      <td>4</td>\n",
       "      <td>male</td>\n",
       "      <td>group_C</td>\n",
       "      <td>some college</td>\n",
       "      <td>standard</td>\n",
       "      <td>none</td>\n",
       "      <td>76</td>\n",
       "      <td>78</td>\n",
       "      <td>75</td>\n",
       "    </tr>\n",
       "    <tr>\n",
       "      <td>5</td>\n",
       "      <td>female</td>\n",
       "      <td>group_B</td>\n",
       "      <td>associate's degree</td>\n",
       "      <td>standard</td>\n",
       "      <td>none</td>\n",
       "      <td>71</td>\n",
       "      <td>83</td>\n",
       "      <td>78</td>\n",
       "    </tr>\n",
       "    <tr>\n",
       "      <td>6</td>\n",
       "      <td>female</td>\n",
       "      <td>group_B</td>\n",
       "      <td>some college</td>\n",
       "      <td>standard</td>\n",
       "      <td>completed</td>\n",
       "      <td>88</td>\n",
       "      <td>95</td>\n",
       "      <td>92</td>\n",
       "    </tr>\n",
       "    <tr>\n",
       "      <td>7</td>\n",
       "      <td>male</td>\n",
       "      <td>group_B</td>\n",
       "      <td>some college</td>\n",
       "      <td>free/reduced</td>\n",
       "      <td>none</td>\n",
       "      <td>40</td>\n",
       "      <td>43</td>\n",
       "      <td>39</td>\n",
       "    </tr>\n",
       "    <tr>\n",
       "      <td>8</td>\n",
       "      <td>male</td>\n",
       "      <td>group_D</td>\n",
       "      <td>high school</td>\n",
       "      <td>free/reduced</td>\n",
       "      <td>completed</td>\n",
       "      <td>64</td>\n",
       "      <td>64</td>\n",
       "      <td>67</td>\n",
       "    </tr>\n",
       "    <tr>\n",
       "      <td>9</td>\n",
       "      <td>female</td>\n",
       "      <td>group_B</td>\n",
       "      <td>high school</td>\n",
       "      <td>free/reduced</td>\n",
       "      <td>none</td>\n",
       "      <td>38</td>\n",
       "      <td>60</td>\n",
       "      <td>50</td>\n",
       "    </tr>\n",
       "  </tbody>\n",
       "</table>\n",
       "</div>"
      ],
      "text/plain": [
       "   gender ethnicity parental_level_of_education         lunch  \\\n",
       "0  female   group_B           bachelor's degree      standard   \n",
       "1  female   group_C                some college      standard   \n",
       "2  female   group_B             master's degree      standard   \n",
       "3    male   group_A          associate's degree  free/reduced   \n",
       "4    male   group_C                some college      standard   \n",
       "5  female   group_B          associate's degree      standard   \n",
       "6  female   group_B                some college      standard   \n",
       "7    male   group_B                some college  free/reduced   \n",
       "8    male   group_D                 high school  free/reduced   \n",
       "9  female   group_B                 high school  free/reduced   \n",
       "\n",
       "  test_preparation_course  math_score  reading_score  writing_score  \n",
       "0                    none          72             72             74  \n",
       "1               completed          69             90             88  \n",
       "2                    none          90             95             93  \n",
       "3                    none          47             57             44  \n",
       "4                    none          76             78             75  \n",
       "5                    none          71             83             78  \n",
       "6               completed          88             95             92  \n",
       "7                    none          40             43             39  \n",
       "8               completed          64             64             67  \n",
       "9                    none          38             60             50  "
      ]
     },
     "execution_count": 2,
     "metadata": {},
     "output_type": "execute_result"
    }
   ],
   "source": [
    "# Setting custom colors for the charts\n",
    "colors = [\"#E13F29\", \"#D69A80\", \"#D63B59\", \"#AE5552\", \"#CB5C3B\", \"#EB8076\", \"#96624E\"]\n",
    "\n",
    "dataset = pd.read_csv('StudentsPerformance.csv')\n",
    "dataset.head(10)"
   ]
  },
  {
   "cell_type": "markdown",
   "metadata": {},
   "source": [
    "### Conclusies dataset:\n",
    "Vooral de waarden math_score, reading_score en writing_score zijn de discrete, kwantitatieve gegevens\n",
    "Verder zijn de andere velden vooral nominale, kwalitatieve gegevens die we kunnen gebruiken om groepen te vergelijken"
   ]
  },
  {
   "cell_type": "markdown",
   "metadata": {},
   "source": [
    "Bepaal het totaal aantal studenten"
   ]
  },
  {
   "cell_type": "code",
   "execution_count": 3,
   "metadata": {},
   "outputs": [
    {
     "name": "stdout",
     "output_type": "stream",
     "text": [
      "Aantal studenten in de dataset: 1000\n"
     ]
    }
   ],
   "source": [
    "# Totaal aantal studenten\n",
    "print('Aantal studenten in de dataset:', len(dataset))"
   ]
  },
  {
   "cell_type": "markdown",
   "metadata": {},
   "source": [
    "Hoeveel studenten zijn niet geslaagd (score lager dan 50) voor wiskunde? Vergelijk ook per geslacht."
   ]
  },
  {
   "cell_type": "code",
   "execution_count": 4,
   "metadata": {},
   "outputs": [
    {
     "name": "stdout",
     "output_type": "stream",
     "text": [
      "Aantal studenten dat niet slaagde voor wiskunde: 135\n",
      "Aantal studenten dat niet slaagde voor wiskunde, per geslacht:\n",
      "gender\n",
      "female    86\n",
      "male      49\n",
      "Name: gender, dtype: int64\n"
     ]
    }
   ],
   "source": [
    "# Aantal studenten die niet geslaagd zijn voor wiskunde + aantal mannen / vrouwen niet geslaagd voor wiskunde\n",
    "print('Aantal studenten dat niet slaagde voor wiskunde:', len(dataset[dataset.math_score < 50]))\n",
    "math_gender_group = dataset[dataset.math_score < 50].groupby([\"gender\"])[\"gender\"].count()\n",
    "print('Aantal studenten dat niet slaagde voor wiskunde, per geslacht:')\n",
    "print(str(math_gender_group))"
   ]
  },
  {
   "cell_type": "markdown",
   "metadata": {},
   "source": [
    "Bepaal de verdeling tussen het aantal vrouwen en mannen. Met andere woorden bepaal het aantal mannen en het aantal vrouwen. Geef deze verdeling weer via een staafdiagram. Gebruik daarvoor de Matplotlib (https://matplotlib.org/api/_as_gen/matplotlib.pyplot.html) of de Seaborn library (https://seaborn.pydata.org/api.html). Gebruik bij Seaborn de catplot (categorical plot)."
   ]
  },
  {
   "cell_type": "code",
   "execution_count": 5,
   "metadata": {},
   "outputs": [
    {
     "data": {
      "text/plain": [
       "<matplotlib.axes._subplots.AxesSubplot at 0x7f96f042e850>"
      ]
     },
     "execution_count": 5,
     "metadata": {},
     "output_type": "execute_result"
    },
    {
     "data": {
      "image/png": "[encoded data removed]",
      "text/plain": [
       "<Figure size 432x288 with 1 Axes>"
      ]
     },
     "metadata": {
      "needs_background": "light"
     },
     "output_type": "display_data"
    }
   ],
   "source": [
    "# Verdeling tussen mannen en vrouwen +  staafdiagram (bar chart)\n",
    "# Group by gender and set name of count column\n",
    "gender_grouped_df  = dataset.groupby(['gender'])['gender'].count().reset_index(name=\"count\")\n",
    "# Plot with Matplotlib\n",
    "gender_grouped_df.plot(x='gender', y='count', kind='bar', color=colors)"
   ]
  },
  {
   "cell_type": "code",
   "execution_count": 6,
   "metadata": {},
   "outputs": [
    {
     "data": {
      "text/plain": [
       "<seaborn.axisgrid.FacetGrid at 0x7f96f041b550>"
      ]
     },
     "execution_count": 6,
     "metadata": {},
     "output_type": "execute_result"
    },
    {
     "data": {
      "image/png": "[encoded data removed]",
      "text/plain": [
       "<Figure size 360x360 with 1 Axes>"
      ]
     },
     "metadata": {
      "needs_background": "light"
     },
     "output_type": "display_data"
    },
    {
     "data": {
      "image/png": "[encoded data removed]",
      "text/plain": [
       "<Figure size 360x360 with 1 Axes>"
      ]
     },
     "metadata": {
      "needs_background": "light"
     },
     "output_type": "display_data"
    }
   ],
   "source": [
    "# Plot with Seaborn, but showing the scores for math by gender\n",
    "ax = sns.catplot(x='gender', y='count', data=gender_grouped_df)\n",
    "ax.set(ylim=(0, 600))\n",
    "# Just the seperation between male/female (two dots)\n",
    "sns.catplot(x='gender', y='math_score', data=dataset)\n"
   ]
  },
  {
   "cell_type": "code",
   "execution_count": 7,
   "metadata": {},
   "outputs": [
    {
     "data": {
      "text/plain": [
       "<matplotlib.axes._subplots.AxesSubplot at 0x7f970048e410>"
      ]
     },
     "execution_count": 7,
     "metadata": {},
     "output_type": "execute_result"
    },
    {
     "data": {
      "image/png": "[encoded data removed]",
      "text/plain": [
       "<Figure size 432x288 with 1 Axes>"
      ]
     },
     "metadata": {
      "needs_background": "light"
     },
     "output_type": "display_data"
    }
   ],
   "source": [
    "# Verdeling tussen mannen en vrouwen in staafgrafiek\n",
    "sns.barplot(x='gender', y='count', data=gender_grouped_df.astype({\"gender\": str, \"count\": int}))"
   ]
  },
  {
   "cell_type": "markdown",
   "metadata": {},
   "source": [
    "Bepaal de verdeling van de etniciteiten. Visualiseer met een taartdiagram (pie chart). Gebruik hiervoor plt.pie() https://matplotlib.org/gallery/pie_and_polar_charts/pie_features.html#sphx-glr-gallery-pie-and-polar-charts-pie-features-py.\n",
    "Om de aantallen van elke categorie te bepalen kan je gebruik maken van https://pandas.pydata.org/pandas-docs/stable/reference/api/pandas.Series.value_counts.html\n"
   ]
  },
  {
   "cell_type": "code",
   "execution_count": 8,
   "metadata": {},
   "outputs": [
    {
     "data": {
      "image/png": "[encoded data removed]",
      "text/plain": [
       "<Figure size 432x288 with 1 Axes>"
      ]
     },
     "metadata": {},
     "output_type": "display_data"
    }
   ],
   "source": [
    "# Verdeling van de etniciteiten + taartdiagram (pie chart)\n",
    "dataset.head(10)\n",
    "# Performing a count (and adding the count column with reset_index)\n",
    "ethnicity_count = dataset.groupby(['ethnicity'])['ethnicity'].count().reset_index(name=\"count\")\n",
    "# Create a pie chart\n",
    "plt.pie(\n",
    "    # using data total)arrests\n",
    "    ethnicity_count['count'],\n",
    "    # with the labels being officer names\n",
    "    labels=ethnicity_count['ethnicity'],\n",
    "    # with shadows\n",
    "    shadow=True,\n",
    "    # with colors\n",
    "    colors=colors,\n",
    "    # optionally with one slide exploded out\n",
    "    # explode=(0, 0, 0, 0, 0.15),\n",
    "    # with the start angle at 90%\n",
    "    startangle=90,\n",
    "    # with the percent listed as a fraction\n",
    "    autopct='%1.1f%%',\n",
    "    )\n",
    "\n",
    "# View the plot drop above\n",
    "plt.axis('equal')\n",
    "\n",
    "# View the plot\n",
    "plt.tight_layout()\n",
    "plt.show()"
   ]
  },
  {
   "cell_type": "markdown",
   "metadata": {},
   "source": [
    "Maak van zowel de math_score, reading_score en writing_score een apart histogram. Bepaal eerst de klassebreedte, verdeel daarna in klasses en maak een plot van het histogram gecombineerd met de cumulatieve frequentie.\n"
   ]
  },
  {
   "cell_type": "code",
   "execution_count": 9,
   "metadata": {},
   "outputs": [
    {
     "name": "stdout",
     "output_type": "stream",
     "text": [
      "Klassebreedte bepaald op  3.1622776601683795\n"
     ]
    },
    {
     "data": {
      "image/png": "[encoded data removed]",
      "text/plain": [
       "<Figure size 432x288 with 2 Axes>"
      ]
     },
     "metadata": {
      "needs_background": "light"
     },
     "output_type": "display_data"
    }
   ],
   "source": [
    "# Histogram van math_score \n",
    "math_scores = dataset['math_score']\n",
    "bin_width = (max(math_scores)-min(math_scores)) / math.sqrt(len(math_scores))\n",
    "bins = np.arange(min(math_scores), max(math_scores) + bin_width, bin_width) # set bins, using the np.arrange\n",
    "print('Klassebreedte bepaald op ', bin_width)\n",
    "\n",
    "fig, ax = plt.subplots(ncols=1)\n",
    "cumulative_x_graph = ax.twinx()\n",
    "# Plot histogram with bins on graph\n",
    "ax.hist(\n",
    "    dataset['math_score'],\n",
    "    # Bins can be specified, otherwise the Freedman-diaconis rule is used\n",
    "    bins = bins,\n",
    "    cumulative = False,\n",
    "    histtype='stepfilled'\n",
    ");\n",
    "# Plot cumulative graph as well\n",
    "cumulative_x_graph.hist(\n",
    "    dataset['math_score'],\n",
    "    # Bins can be specified, otherwise the Freedman-diaconis rule is used\n",
    "    bins = bins,\n",
    "    cumulative = True,\n",
    "    histtype='step',\n",
    "    color=colors[0]\n",
    ");\n"
   ]
  },
  {
   "cell_type": "code",
   "execution_count": 10,
   "metadata": {},
   "outputs": [
    {
     "name": "stdout",
     "output_type": "stream",
     "text": [
      "Klassebreedte bepaald op  2.6246904579397548\n"
     ]
    },
    {
     "data": {
      "image/png": "[encoded data removed]",
      "text/plain": [
       "<Figure size 432x288 with 2 Axes>"
      ]
     },
     "metadata": {
      "needs_background": "light"
     },
     "output_type": "display_data"
    }
   ],
   "source": [
    "# Histogram van reading_score\n",
    "reading_scores = dataset['reading_score']\n",
    "bin_width = (max(reading_scores)-min(reading_scores)) / math.sqrt(len(reading_scores))\n",
    "bins = np.arange(min(reading_scores), max(reading_scores) + bin_width, bin_width) # set bins, using the np.arrange\n",
    "print('Klassebreedte bepaald op ', bin_width)\n",
    "\n",
    "fig, ax = plt.subplots(ncols=1)\n",
    "cumulative_x_graph = ax.twinx()\n",
    "# Plot histogram with bins on graph\n",
    "ax.hist(\n",
    "    dataset['reading_score'],\n",
    "    # Bins can be specified, otherwise the Freedman-diaconis rule is used\n",
    "    bins = bins,\n",
    "    cumulative = False,\n",
    "    histtype='stepfilled'\n",
    ");\n",
    "# Plot cumulative graph as well\n",
    "cumulative_x_graph.hist(\n",
    "    dataset['reading_score'],\n",
    "    # Bins can be specified, otherwise the Freedman-diaconis rule is used\n",
    "    bins = bins,\n",
    "    cumulative = True,\n",
    "    histtype='step',\n",
    "    color=colors[0]\n",
    ");"
   ]
  },
  {
   "cell_type": "code",
   "execution_count": 11,
   "metadata": {},
   "outputs": [
    {
     "name": "stdout",
     "output_type": "stream",
     "text": [
      "Klassebreedte bepaald op  2.8460498941515415\n"
     ]
    },
    {
     "data": {
      "image/png": "[encoded data removed]",
      "text/plain": [
       "<Figure size 432x288 with 2 Axes>"
      ]
     },
     "metadata": {
      "needs_background": "light"
     },
     "output_type": "display_data"
    }
   ],
   "source": [
    "# Histogram van writing_score\n",
    "writing_scores = dataset['writing_score']\n",
    "bin_width = (max(writing_scores)-min(writing_scores)) / math.sqrt(len(writing_scores))\n",
    "bins = np.arange(min(writing_scores), max(writing_scores) + bin_width, bin_width) # set bins, using the np.arrange\n",
    "print('Klassebreedte bepaald op ', bin_width)\n",
    "\n",
    "fig, ax = plt.subplots(ncols=1)\n",
    "cumulative_x_graph = ax.twinx()\n",
    "# Plot histogram with bins on graph\n",
    "ax.hist(\n",
    "    dataset['writing_score'],\n",
    "    # Bins can be specified, otherwise the Freedman-diaconis rule is used\n",
    "    bins = bins,\n",
    "    cumulative = False,\n",
    "    histtype='stepfilled'\n",
    ");\n",
    "# Plot cumulative graph as well\n",
    "cumulative_x_graph.hist(\n",
    "    dataset['writing_score'],\n",
    "    # Bins can be specified, otherwise the Freedman-diaconis rule is used\n",
    "    bins = bins,\n",
    "    cumulative = True,\n",
    "    histtype='step',\n",
    "    color=colors[0]\n",
    ");"
   ]
  },
  {
   "cell_type": "markdown",
   "metadata": {},
   "source": [
    "Bepaal de van de bovenstaande histogrammen (math_score, reading_score en writing_score) de skew en de kurtosis.\n",
    "Wat kan je daaruit besluiten. Komt dit overeen met de histogrammen?"
   ]
  },
  {
   "cell_type": "code",
   "execution_count": 12,
   "metadata": {},
   "outputs": [
    {
     "name": "stdout",
     "output_type": "stream",
     "text": [
      "          0         1          2          3\n",
      "0                Math    Reading    Writing\n",
      "1      Skew -0.278935  -0.259105  -0.289444\n",
      "2  Kurtosis  0.274964 -0.0682655 -0.0333646\n"
     ]
    }
   ],
   "source": [
    "# Skew en Kurtosis, printed as dataframe\n",
    "output_list = [\n",
    "                ['', 'Math', 'Reading', 'Writing'],\n",
    "                ['Skew', math_scores.skew(), reading_scores.skew(), writing_scores.skew()],\n",
    "                ['Kurtosis', math_scores.kurtosis(), reading_scores.kurtosis(), writing_scores.kurtosis()]\n",
    "              ]\n",
    "print(DataFrame(output_list))\n"
   ]
  },
  {
   "cell_type": "markdown",
   "metadata": {},
   "source": [
    "### Conclusies scheefheid & kurtosis:\n",
    "We zien dat alle scores linksscheef zijn, wat perfect logisch is, aangezien de meerderheid van de studenten inderdaad slaagt voor hun examens.\n",
    "We zien bij de wiskunde wel een sterkere piekvorming (leptokurtic), terwijl de andere scores bijna perfect normaal verdeeld lijken.  Dat is ook zichtbaar als de verschillende plots vergeleken worden."
   ]
  },
  {
   "cell_type": "markdown",
   "metadata": {},
   "source": [
    "Bepaal de centrummaten (gemiddelde, mediaan en de modus of modale klasse) van math_score, reading_score en writing_score telkens opgesplitst per geslacht."
   ]
  },
  {
   "cell_type": "code",
   "execution_count": 13,
   "metadata": {},
   "outputs": [
    {
     "name": "stdout",
     "output_type": "stream",
     "text": [
      "Mean / average\n",
      "        math_score  reading_score  writing_score\n",
      "gender                                          \n",
      "female   63.633205      72.608108      72.467181\n",
      "male     68.728216      65.473029      63.311203\n",
      "\n",
      "Median\n",
      "        math_score  reading_score  writing_score\n",
      "gender                                          \n",
      "female          65             73             74\n",
      "male            69             66             64\n",
      "\n",
      "Mode list\n",
      "        0           1              2              3\n",
      "0          math_score  reading_score  writing_score\n",
      "1  female        [65]           [72]           [70]\n",
      "2    male        [62]       [66, 74]           [68]\n"
     ]
    }
   ],
   "source": [
    "#Centrummaten van math_score, reading_score en writing_score\n",
    "print('Mean / average')\n",
    "print(dataset.groupby('gender')['math_score','reading_score','writing_score'].mean())\n",
    "print()\n",
    "print('Median')\n",
    "print(dataset.groupby('gender')['math_score','reading_score','writing_score'].median())\n",
    "print()\n",
    "# As mode does not seem to be supported on a groupby dataframe, let's calculate them one by one\n",
    "female_data = dataset.loc[dataset['gender'] == 'female']\n",
    "male_data = dataset.loc[dataset['gender'] == 'male']\n",
    "print('Mode list')\n",
    "mode_list = [\n",
    "                ['', 'math_score', 'reading_score', 'writing_score'],\n",
    "                ['female', list(female_data['math_score'].mode()), list(female_data['reading_score'].mode()), list(female_data['writing_score'].mode())],\n",
    "                ['male', list(male_data['math_score'].mode()), list(male_data['reading_score'].mode()), list(male_data['writing_score'].mode())]\n",
    "            ]\n",
    "print(DataFrame(mode_list))"
   ]
  },
  {
   "cell_type": "markdown",
   "metadata": {},
   "source": [
    "Bepaal de spreidingsmaten (variantie, standaardafwijking, range, interkwartielafstand) van math_score, reading_score en writing_score telkens opgesplitst per geslacht.\n"
   ]
  },
  {
   "cell_type": "code",
   "execution_count": 14,
   "metadata": {},
   "outputs": [
    {
     "name": "stdout",
     "output_type": "stream",
     "text": [
      "Variance\n",
      "        math_score  reading_score  writing_score\n",
      "gender                                          \n",
      "female  239.985124     206.733938     220.369327\n",
      "male    206.102695     194.095945     199.200248\n",
      "\n",
      "Standard deviation\n",
      "        math_score  reading_score  writing_score\n",
      "gender                                          \n",
      "female   15.491453      14.378245      14.844842\n",
      "male     14.356277      13.931832      14.113832\n",
      "\n",
      "Range\n",
      "        0           1              2              3\n",
      "0          math_score  reading_score  writing_score\n",
      "1  female         100             83             90\n",
      "2    male          73             77             85\n",
      "\n",
      "IQR\n",
      "        0           1              2              3\n",
      "0          math_score  reading_score  writing_score\n",
      "1  female          20          19.75             18\n",
      "2    male          20             19          20.75\n"
     ]
    }
   ],
   "source": [
    "#Spreidingsmaten van math_score, reading_score en writing_score\n",
    "print('Variance')\n",
    "print(dataset.groupby('gender')['math_score','reading_score','writing_score'].var())\n",
    "print()\n",
    "print('Standard deviation')\n",
    "print(dataset.groupby('gender')['math_score','reading_score','writing_score'].std())\n",
    "print()\n",
    "print('Range')\n",
    "range_list = [\n",
    "                ['', 'math_score', 'reading_score', 'writing_score'],\n",
    "                ['female', max(female_data['math_score'])-min(female_data['math_score']), max(female_data['reading_score'])-min(female_data['reading_score']),max(female_data['writing_score'])-min(female_data['writing_score'])],\n",
    "                ['male', max(male_data['math_score'])-min(male_data['math_score']), max(male_data['reading_score'])-min(male_data['reading_score']),max(male_data['writing_score'])-min(male_data['writing_score'])]\n",
    "            ]\n",
    "print(DataFrame(range_list))\n",
    "print()\n",
    "print('IQR')\n",
    "iqr_list = [\n",
    "                ['', 'math_score', 'reading_score', 'writing_score'],\n",
    "                ['female', iqr(female_data['math_score']), iqr(female_data['reading_score']),iqr(female_data['writing_score']),],\n",
    "                ['male', iqr(male_data['math_score']), iqr(male_data['reading_score']),iqr(male_data['writing_score']),]\n",
    "            ]\n",
    "print(DataFrame(iqr_list))\n"
   ]
  },
  {
   "cell_type": "markdown",
   "metadata": {},
   "source": [
    "Je kan de via de pandas describe functie een overzicht genereren van de belangrijkste statistische parameters. (https://pandas.pydata.org/pandas-docs/stable/reference/api/pandas.DataFrame.describe.html).\n",
    "Voer deze functie uit en vergelijk met de waarden die je via de aparte functie voor het bepalen van de verschillende centrum- en spreidingsmaten bekomen bent. Splits ook hier weer op per geslacht."
   ]
  },
  {
   "cell_type": "code",
   "execution_count": 15,
   "metadata": {},
   "outputs": [
    {
     "data": {
      "text/html": [
       "<div>\n",
       "<style scoped>\n",
       "    .dataframe tbody tr th:only-of-type {\n",
       "        vertical-align: middle;\n",
       "    }\n",
       "\n",
       "    .dataframe tbody tr th {\n",
       "        vertical-align: top;\n",
       "    }\n",
       "\n",
       "    .dataframe thead tr th {\n",
       "        text-align: left;\n",
       "    }\n",
       "\n",
       "    .dataframe thead tr:last-of-type th {\n",
       "        text-align: right;\n",
       "    }\n",
       "</style>\n",
       "<table border=\"1\" class=\"dataframe\">\n",
       "  <thead>\n",
       "    <tr>\n",
       "      <th></th>\n",
       "      <th colspan=\"8\" halign=\"left\">math_score</th>\n",
       "      <th colspan=\"5\" halign=\"left\">reading_score</th>\n",
       "      <th colspan=\"8\" halign=\"left\">writing_score</th>\n",
       "    </tr>\n",
       "    <tr>\n",
       "      <th></th>\n",
       "      <th>count</th>\n",
       "      <th>mean</th>\n",
       "      <th>std</th>\n",
       "      <th>min</th>\n",
       "      <th>25%</th>\n",
       "      <th>50%</th>\n",
       "      <th>75%</th>\n",
       "      <th>max</th>\n",
       "      <th>count</th>\n",
       "      <th>mean</th>\n",
       "      <th>...</th>\n",
       "      <th>75%</th>\n",
       "      <th>max</th>\n",
       "      <th>count</th>\n",
       "      <th>mean</th>\n",
       "      <th>std</th>\n",
       "      <th>min</th>\n",
       "      <th>25%</th>\n",
       "      <th>50%</th>\n",
       "      <th>75%</th>\n",
       "      <th>max</th>\n",
       "    </tr>\n",
       "    <tr>\n",
       "      <th>gender</th>\n",
       "      <th></th>\n",
       "      <th></th>\n",
       "      <th></th>\n",
       "      <th></th>\n",
       "      <th></th>\n",
       "      <th></th>\n",
       "      <th></th>\n",
       "      <th></th>\n",
       "      <th></th>\n",
       "      <th></th>\n",
       "      <th></th>\n",
       "      <th></th>\n",
       "      <th></th>\n",
       "      <th></th>\n",
       "      <th></th>\n",
       "      <th></th>\n",
       "      <th></th>\n",
       "      <th></th>\n",
       "      <th></th>\n",
       "      <th></th>\n",
       "      <th></th>\n",
       "    </tr>\n",
       "  </thead>\n",
       "  <tbody>\n",
       "    <tr>\n",
       "      <td>female</td>\n",
       "      <td>518.0</td>\n",
       "      <td>63.633205</td>\n",
       "      <td>15.491453</td>\n",
       "      <td>0.0</td>\n",
       "      <td>54.0</td>\n",
       "      <td>65.0</td>\n",
       "      <td>74.0</td>\n",
       "      <td>100.0</td>\n",
       "      <td>518.0</td>\n",
       "      <td>72.608108</td>\n",
       "      <td>...</td>\n",
       "      <td>83.0</td>\n",
       "      <td>100.0</td>\n",
       "      <td>518.0</td>\n",
       "      <td>72.467181</td>\n",
       "      <td>14.844842</td>\n",
       "      <td>10.0</td>\n",
       "      <td>64.0</td>\n",
       "      <td>74.0</td>\n",
       "      <td>82.00</td>\n",
       "      <td>100.0</td>\n",
       "    </tr>\n",
       "    <tr>\n",
       "      <td>male</td>\n",
       "      <td>482.0</td>\n",
       "      <td>68.728216</td>\n",
       "      <td>14.356277</td>\n",
       "      <td>27.0</td>\n",
       "      <td>59.0</td>\n",
       "      <td>69.0</td>\n",
       "      <td>79.0</td>\n",
       "      <td>100.0</td>\n",
       "      <td>482.0</td>\n",
       "      <td>65.473029</td>\n",
       "      <td>...</td>\n",
       "      <td>75.0</td>\n",
       "      <td>100.0</td>\n",
       "      <td>482.0</td>\n",
       "      <td>63.311203</td>\n",
       "      <td>14.113832</td>\n",
       "      <td>15.0</td>\n",
       "      <td>53.0</td>\n",
       "      <td>64.0</td>\n",
       "      <td>73.75</td>\n",
       "      <td>100.0</td>\n",
       "    </tr>\n",
       "  </tbody>\n",
       "</table>\n",
       "<p>2 rows × 24 columns</p>\n",
       "</div>"
      ],
      "text/plain": [
       "       math_score                                                       \\\n",
       "            count       mean        std   min   25%   50%   75%    max   \n",
       "gender                                                                   \n",
       "female      518.0  63.633205  15.491453   0.0  54.0  65.0  74.0  100.0   \n",
       "male        482.0  68.728216  14.356277  27.0  59.0  69.0  79.0  100.0   \n",
       "\n",
       "       reading_score             ...              writing_score             \\\n",
       "               count       mean  ...   75%    max         count       mean   \n",
       "gender                           ...                                         \n",
       "female         518.0  72.608108  ...  83.0  100.0         518.0  72.467181   \n",
       "male           482.0  65.473029  ...  75.0  100.0         482.0  63.311203   \n",
       "\n",
       "                                                   \n",
       "              std   min   25%   50%    75%    max  \n",
       "gender                                             \n",
       "female  14.844842  10.0  64.0  74.0  82.00  100.0  \n",
       "male    14.113832  15.0  53.0  64.0  73.75  100.0  \n",
       "\n",
       "[2 rows x 24 columns]"
      ]
     },
     "execution_count": 15,
     "metadata": {},
     "output_type": "execute_result"
    }
   ],
   "source": [
    "# pandas describe functie\n",
    "dataset.groupby('gender').describe()"
   ]
  },
  {
   "cell_type": "markdown",
   "metadata": {},
   "source": [
    "Maak boxplots waarbij je telkens de verschillende score (math_score, reading_score en writing_score) vergelijkt tussen mannen en vrouwen.\n",
    "Kan je besluiten dat mannen of vrouwen beter scoren op bepaalde testen? Beargumenteer."
   ]
  },
  {
   "cell_type": "code",
   "execution_count": 16,
   "metadata": {},
   "outputs": [
    {
     "data": {
      "text/plain": [
       "array([[<matplotlib.axes._subplots.AxesSubplot object at 0x7f97006ad990>,\n",
       "        <matplotlib.axes._subplots.AxesSubplot object at 0x7f97007ea5d0>],\n",
       "       [<matplotlib.axes._subplots.AxesSubplot object at 0x7f96b09dca10>,\n",
       "        <matplotlib.axes._subplots.AxesSubplot object at 0x7f96e0e97dd0>]],\n",
       "      dtype=object)"
      ]
     },
     "execution_count": 16,
     "metadata": {},
     "output_type": "execute_result"
    },
    {
     "data": {
      "image/png": "[encoded data removed]",
      "text/plain": [
       "<Figure size 1152x864 with 4 Axes>"
      ]
     },
     "metadata": {
      "needs_background": "light"
     },
     "output_type": "display_data"
    }
   ],
   "source": [
    "# Boxplots\n",
    "dataset.boxplot(\n",
    "    column = ['math_score', 'reading_score', 'writing_score'],\n",
    "    by='gender',\n",
    "    rot = 90,\n",
    "    figsize = [16,12]\n",
    ")"
   ]
  },
  {
   "cell_type": "markdown",
   "metadata": {},
   "source": [
    "### Besluiten scores per geslacht:\n",
    "Het lijkt hier dat de vrouwelijke deelnemers beter scoren tov de mannelijke deelnemers op gebied van taal (reading & writing), terwijl mannelijke deelnemers het vooral op wiskunde beter lijken te doen.  Verder lijken er wel meer negatieve outliers te zijn bij de vrouwelijke kandidaten, die uiteraard bepaalde conclusies zouden kunnen beïnvloeden."
   ]
  },
  {
   "cell_type": "markdown",
   "metadata": {},
   "source": [
    "Ga na of er bij math_score, reading_score en writing_score uitschieters te vinden zijn. \n",
    "- Gebruik enerzijds de methode via de interkwartielafstand (IQR). Waarden boven $Q_3 +1,5 \\times IQR$ en waarden onder $Q_1 - 1,5 \\times IQR$ kan je als uitschieters beschouwen.\n",
    "- Bepaal ook uitschieters door te kijken welke waarden meer dan drie standaardafwijkingen van het gemiddelde gelegen zijn."
   ]
  },
  {
   "cell_type": "code",
   "execution_count": 17,
   "metadata": {},
   "outputs": [
    {
     "name": "stdout",
     "output_type": "stream",
     "text": [
      "IQR Outliers for female math scores\n",
      "17     18\n",
      "59      0\n",
      "145    22\n",
      "787    19\n",
      "842    23\n",
      "980     8\n",
      "Name: math_score, dtype: int64\n",
      "\n",
      "IQR Outliers for female reading scores\n",
      "17     32\n",
      "59     17\n",
      "466    31\n",
      "601    29\n",
      "980    24\n",
      "Name: reading_score, dtype: int64\n",
      "\n",
      "IQR Outliers for female writing scores\n",
      "17     28\n",
      "59     10\n",
      "145    33\n",
      "338    27\n",
      "363    32\n",
      "555    33\n",
      "601    30\n",
      "787    32\n",
      "842    36\n",
      "980    23\n",
      "Name: writing_score, dtype: int64\n",
      "\n",
      "IQR Outliers for male math scores\n",
      "91     27\n",
      "327    28\n",
      "Name: math_score, dtype: int64\n",
      "\n",
      "IQR Outliers for male reading scores\n",
      "76     26\n",
      "327    23\n",
      "596    24\n",
      "Name: reading_score, dtype: int64\n",
      "\n",
      "IQR Outliers for male writing scores\n",
      "327    19\n",
      "596    15\n",
      "Name: writing_score, dtype: int64\n",
      "\n"
     ]
    }
   ],
   "source": [
    "# Bepalen van uitschieters\n",
    "def print_iqr_outliers(data_series, text):\n",
    "    iqr_value = iqr(data_series)\n",
    "    q3_value = data_series.quantile(.75)\n",
    "    q1_value = data_series.quantile(.25)\n",
    "    print(text)\n",
    "    print(data_series[(data_series > q3_value + (1.5 * iqr_value)) | (data_series < q1_value - (1.5 * iqr_value))])\n",
    "    print()\n",
    "\n",
    "print_iqr_outliers(dataset['math_score'][dataset['gender']=='female'], 'IQR Outliers for female math scores')\n",
    "print_iqr_outliers(dataset['reading_score'][dataset['gender']=='female'], 'IQR Outliers for female reading scores')\n",
    "print_iqr_outliers(dataset['writing_score'][dataset['gender']=='female'], 'IQR Outliers for female writing scores')\n",
    "print_iqr_outliers(dataset['math_score'][dataset['gender']=='male'], 'IQR Outliers for male math scores')\n",
    "print_iqr_outliers(dataset['reading_score'][dataset['gender']=='male'], 'IQR Outliers for male reading scores')\n",
    "print_iqr_outliers(dataset['writing_score'][dataset['gender']=='male'], 'IQR Outliers for male writing scores')\n"
   ]
  },
  {
   "cell_type": "code",
   "execution_count": 18,
   "metadata": {},
   "outputs": [
    {
     "name": "stdout",
     "output_type": "stream",
     "text": [
      "StdDev Outliers for female math scores\n",
      "59     0\n",
      "980    8\n",
      "Name: math_score, dtype: int64\n",
      "\n",
      "StdDev Outliers for female reading scores\n",
      "59     17\n",
      "601    29\n",
      "980    24\n",
      "Name: reading_score, dtype: int64\n",
      "\n",
      "StdDev Outliers for female writing scores\n",
      "59     10\n",
      "338    27\n",
      "980    23\n",
      "Name: writing_score, dtype: int64\n",
      "\n",
      "StdDev Outliers for male math scores\n",
      "Series([], Name: math_score, dtype: int64)\n",
      "\n",
      "StdDev Outliers for male reading scores\n",
      "327    23\n",
      "Name: reading_score, dtype: int64\n",
      "\n",
      "StdDev Outliers for male writing scores\n",
      "327    19\n",
      "596    15\n",
      "Name: writing_score, dtype: int64\n",
      "\n"
     ]
    }
   ],
   "source": [
    "# Bepalen van uitschieters\n",
    "def print_std_outliers(data_series, text):\n",
    "    stddev = data_series.std()\n",
    "    average = data_series.mean()\n",
    "    print(text)\n",
    "    print(data_series[(data_series > average + (3 * stddev)) | (data_series < average - (3 * stddev))])\n",
    "    print()\n",
    "\n",
    "print_std_outliers(dataset['math_score'][dataset['gender']=='female'], 'StdDev Outliers for female math scores')\n",
    "print_std_outliers(dataset['reading_score'][dataset['gender']=='female'], 'StdDev Outliers for female reading scores')\n",
    "print_std_outliers(dataset['writing_score'][dataset['gender']=='female'], 'StdDev Outliers for female writing scores')\n",
    "print_std_outliers(dataset['math_score'][dataset['gender']=='male'], 'StdDev Outliers for male math scores')\n",
    "print_std_outliers(dataset['reading_score'][dataset['gender']=='male'], 'StdDev Outliers for male reading scores')\n",
    "print_std_outliers(dataset['writing_score'][dataset['gender']=='male'], 'StdDev Outliers for male writing scores')"
   ]
  },
  {
   "cell_type": "code",
   "execution_count": null,
   "metadata": {},
   "outputs": [],
   "source": []
  }
 ],
 "metadata": {
  "kernelspec": {
   "display_name": "Python 3",
   "language": "python",
   "name": "python3"
  },
  "language_info": {
   "codemirror_mode": {
    "name": "ipython",
    "version": 3
   },
   "file_extension": ".py",
   "mimetype": "text/x-python",
   "name": "python",
   "nbconvert_exporter": "python",
   "pygments_lexer": "ipython3",
   "version": "3.7.4"
  }
 },
 "nbformat": 4,
 "nbformat_minor": 2
}
