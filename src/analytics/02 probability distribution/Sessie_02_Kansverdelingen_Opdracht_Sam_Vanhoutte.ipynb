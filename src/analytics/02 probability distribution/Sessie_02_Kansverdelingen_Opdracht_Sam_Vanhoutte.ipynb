{
 "cells": [
  {
   "cell_type": "code",
   "execution_count": 53,
   "metadata": {},
   "outputs": [],
   "source": [
    "%matplotlib inline\n",
    "import matplotlib.pyplot as plt\n",
    "import pandas as pd\n",
    "import numpy as np\n",
    "import seaborn as sns\n",
    "from scipy import stats\n",
    "import math"
   ]
  },
  {
   "cell_type": "markdown",
   "metadata": {},
   "source": [
    "## Binomiale verdeling\n",
    "\n",
    "Weigh in motion is een geautomatiseerde manier om het gewicht van vrachtwagens te meten door middel van sensoren in het wegdek . Wanneer de vrachtwagen voorbij rijdt wordt zijn lengte, snelheid, gewicht en nummerplaat geregistreerd. Vrachtwagens die overladen zijn kunnen op die manier zeer snel opgespoord en beboet worden. \n",
    "Het maximaal toegelaten gewicht van vrachtwagens op Belgische wegen hangt onder andere af van het aantal assen waarmee de oplegger is uitgerust. Wij gaan bij deze oefening uit van een overgewicht wanneer de meting 40 ton overschrijdt.\n",
    "\n",
    "Het bestand 'wim.csv' bevat 1000 opeenvolgende wegingen van vrachtwagens. De gewichten worden uitgedrukt in ton (=duizend kilo). Gebruik en verwerk deze informatie om onderstaande vragen te beantwoorden.\n",
    "\n",
    "    a. Van de volgende 200 vrachtwagens, hoeveel zullen er naar verwachting overladen zijn?\n",
    "    \n",
    "    b. Wat is de kans dat van de volgende 10 vrachtwagens er geen enkele overladen is?\n",
    "    \n",
    "    c. Wat is de kans dat van de volgende 10 vrachtwagens er exact 2 overladen zijn?\n",
    "    \n",
    "    d. Wat is de kans dat drie opeenvolgende vrachtwagens overladen zijn?\n",
    "    \n",
    "    e. Wat is de kans dat van de komende 20 vrachtwagens er minder dan 5 overladen zijn?\n",
    "    \n",
    "    f. Wat is de kans dat van de komende 20 vrachtwagens er meer dan de helf overladen is?\n",
    "    \n",
    "Bepaal in eerste instantie op basis van de data de kans op een overtreding. Deze kans kan je vervolgens verder in de berekeningen gebruiken. "
   ]
  },
  {
   "cell_type": "code",
   "execution_count": 3,
   "metadata": {},
   "outputs": [
    {
     "data": {
      "text/html": [
       "<div>\n",
       "<style scoped>\n",
       "    .dataframe tbody tr th:only-of-type {\n",
       "        vertical-align: middle;\n",
       "    }\n",
       "\n",
       "    .dataframe tbody tr th {\n",
       "        vertical-align: top;\n",
       "    }\n",
       "\n",
       "    .dataframe thead th {\n",
       "        text-align: right;\n",
       "    }\n",
       "</style>\n",
       "<table border=\"1\" class=\"dataframe\">\n",
       "  <thead>\n",
       "    <tr style=\"text-align: right;\">\n",
       "      <th></th>\n",
       "      <th>Gewicht</th>\n",
       "    </tr>\n",
       "  </thead>\n",
       "  <tbody>\n",
       "    <tr>\n",
       "      <th>0</th>\n",
       "      <td>20</td>\n",
       "    </tr>\n",
       "    <tr>\n",
       "      <th>1</th>\n",
       "      <td>23</td>\n",
       "    </tr>\n",
       "    <tr>\n",
       "      <th>2</th>\n",
       "      <td>9</td>\n",
       "    </tr>\n",
       "    <tr>\n",
       "      <th>3</th>\n",
       "      <td>30</td>\n",
       "    </tr>\n",
       "    <tr>\n",
       "      <th>4</th>\n",
       "      <td>35</td>\n",
       "    </tr>\n",
       "  </tbody>\n",
       "</table>\n",
       "</div>"
      ],
      "text/plain": [
       "   Gewicht\n",
       "0       20\n",
       "1       23\n",
       "2        9\n",
       "3       30\n",
       "4       35"
      ]
     },
     "execution_count": 3,
     "metadata": {},
     "output_type": "execute_result"
    }
   ],
   "source": [
    "# Inlezen van de dataset\n",
    "\n",
    "dataset = pd.read_csv('wim.csv')\n",
    "dataset.head()"
   ]
  },
  {
   "cell_type": "code",
   "execution_count": 33,
   "metadata": {},
   "outputs": [
    {
     "name": "stdout",
     "output_type": "stream",
     "text": [
      "24.60%\n"
     ]
    }
   ],
   "source": [
    "# Bepalen van de kans op een overtreding\n",
    "\n",
    "max_gewicht = 40\n",
    "overtredings_kans = float(dataset.loc[dataset['Gewicht'] > max_gewicht].count() / dataset[\"Gewicht\"].count())\n",
    "print(\"{0:.2%}\".format(overtredings_kans))"
   ]
  },
  {
   "cell_type": "code",
   "execution_count": 32,
   "metadata": {},
   "outputs": [
    {
     "name": "stdout",
     "output_type": "stream",
     "text": [
      "In de komende 200 vrachtwagens zullen er waarschijnlijk 49.2 overladen zijn\n",
      "Kans dat er van de volgende 10 geen enkele is overladen:  5.94%\n",
      "Kans dat er van de volgende 10 exact 2 zijn overladen:  28.45%\n",
      "Kans dat er 3 opeenvolgende overladen zijn:  1.49%\n",
      "Kans dat er minder dan 5 overladen zijn bij de volgende 20:  63.33%\n",
      "Kans dat er meer dan de helft overladen zijn bij de volgende 20:  0.34%\n"
     ]
    }
   ],
   "source": [
    "#    a. Van de volgende 200 vrachtwagens, hoeveel zullen er naar verwachting overladen zijn?\n",
    "print('In de komende 200 vrachtwagens zullen er waarschijnlijk', 200 * overtredings_kans ,'overladen zijn')\n",
    "    \n",
    "#    b. Wat is de kans dat van de volgende 10 vrachtwagens er geen enkele overladen is?\n",
    "print('Kans dat er van de volgende 10 geen enkele is overladen: ', \"{0:.2%}\".format(stats.binom.pmf(0, 10, overtredings_kans)))\n",
    "#    c. Wat is de kans dat van de volgende 10 vrachtwagens er exact 2 overladen zijn?\n",
    "print('Kans dat er van de volgende 10 exact 2 zijn overladen: ', \"{0:.2%}\".format(stats.binom.pmf(2, 10, overtredings_kans)))\n",
    "\n",
    "#    d. Wat is de kans dat drie opeenvolgende vrachtwagens overladen zijn?\n",
    "print('Kans dat er 3 opeenvolgende overladen zijn: ', \"{0:.2%}\".format(stats.binom.pmf(3, 3, overtredings_kans)))\n",
    "    \n",
    "#    e. Wat is de kans dat van de komende 20 vrachtwagens er minder dan 5 overladen zijn?\n",
    "print('Kans dat er minder dan 5 overladen zijn bij de volgende 20: ', \"{0:.2%}\".format(stats.binom.cdf(5, 20, overtredings_kans)))\n",
    "    \n",
    "#    f. Wat is de kans dat van de komende 20 vrachtwagens er meer dan de helf overladen is?\n",
    "print('Kans dat er meer dan de helft overladen zijn bij de volgende 20: ', \"{0:.2%}\".format(1.0 - stats.binom.cdf(10, 20, overtredings_kans)))\n"
   ]
  },
  {
   "cell_type": "markdown",
   "metadata": {},
   "source": [
    "## Poisson verdeling\n",
    "\n",
    "Een bepaalde webserver krijgt per seconde een hoeveelheid requests te verwerken. Een log van het aantal requests per seconde kan je vinden in het webserver.csv. Gebruik deze informatie om onderstaande vragen te beantwoorden. Je mag ervan uitgaan dat het aantal requests Poisson is verdeeld.\n",
    "\n",
    "    a. Bepaal de verwachtingswaarde λ. Gebruik deze waarde in de verdere berekeningen.\n",
    "    \n",
    "    b. Bepaal de kans dat de server minder dan 45 requests per seconde te verwerken krijgt.\n",
    "    \n",
    "    c. Het maximaal aantal requests per seconde die de server kan verwerken ligt op 80. Bepaal de kans dat de server plat gaat door een teveel aan requests."
   ]
  },
  {
   "cell_type": "code",
   "execution_count": 36,
   "metadata": {},
   "outputs": [
    {
     "data": {
      "text/html": [
       "<div>\n",
       "<style scoped>\n",
       "    .dataframe tbody tr th:only-of-type {\n",
       "        vertical-align: middle;\n",
       "    }\n",
       "\n",
       "    .dataframe tbody tr th {\n",
       "        vertical-align: top;\n",
       "    }\n",
       "\n",
       "    .dataframe thead th {\n",
       "        text-align: right;\n",
       "    }\n",
       "</style>\n",
       "<table border=\"1\" class=\"dataframe\">\n",
       "  <thead>\n",
       "    <tr style=\"text-align: right;\">\n",
       "      <th></th>\n",
       "      <th>Requests</th>\n",
       "    </tr>\n",
       "  </thead>\n",
       "  <tbody>\n",
       "    <tr>\n",
       "      <th>0</th>\n",
       "      <td>57</td>\n",
       "    </tr>\n",
       "    <tr>\n",
       "      <th>1</th>\n",
       "      <td>63</td>\n",
       "    </tr>\n",
       "    <tr>\n",
       "      <th>2</th>\n",
       "      <td>53</td>\n",
       "    </tr>\n",
       "    <tr>\n",
       "      <th>3</th>\n",
       "      <td>57</td>\n",
       "    </tr>\n",
       "    <tr>\n",
       "      <th>4</th>\n",
       "      <td>54</td>\n",
       "    </tr>\n",
       "  </tbody>\n",
       "</table>\n",
       "</div>"
      ],
      "text/plain": [
       "   Requests\n",
       "0        57\n",
       "1        63\n",
       "2        53\n",
       "3        57\n",
       "4        54"
      ]
     },
     "execution_count": 36,
     "metadata": {},
     "output_type": "execute_result"
    }
   ],
   "source": [
    "# Inlezen van de dataset\n",
    "\n",
    "dataset = pd.read_csv('webserver.csv')\n",
    "dataset.head()"
   ]
  },
  {
   "cell_type": "code",
   "execution_count": 42,
   "metadata": {},
   "outputs": [
    {
     "name": "stdout",
     "output_type": "stream",
     "text": [
      "55.24125\n",
      "Kans op minder dan 45 requests per seconde:  9.19%\n",
      "Kans op server crash:  0.07%\n"
     ]
    }
   ],
   "source": [
    "# a. Bepaal de verwachtingswaarde λ. Gebruik deze waarde in de verdere berekeningen.\n",
    "mean_request_count = float(dataset[\"Requests\"].mean())\n",
    "print(mean_request_count)\n",
    "# b. Bepaal de kans dat de server minder dan 45 requests per seconde te verwerken krijgt.\n",
    "print('Kans op minder dan 45 requests per seconde: ', \"{0:.2%}\".format(stats.poisson.cdf(45, mean_request_count)))\n",
    " \n",
    "# c. Het maximaal aantal requests per seconde die de server kan verwerken ligt op 80...\n",
    "#    ...Bepaal de kans dat de server plat gaat door een teveel aan requests.\n",
    "print('Kans op server crash: ', \"{0:.2%}\".format(1 - stats.poisson.cdf(80, mean_request_count)))\n",
    "\n"
   ]
  },
  {
   "cell_type": "markdown",
   "metadata": {},
   "source": [
    "## Normaalverdeling\n",
    "\n",
    "De BMI is een index die de verhouding tussen lengte en gewicht bij een persoon weergeeft. De BMI wordt veel gebruikt om een indicatie te krijgen of er sprake is van overgewicht of ondergewicht.\n",
    "Om de BMI van een persoon te berekenen deel je zijn/haar gewicht door het kwadraat van de lengte. Het gewicht wordt daarbij uitgedrukt in kilogram, de lengte in meter.\n",
    "Weegt een persoon bijvoorbeeld 67kg en meet deze persoon 172cm, dan is de BMI gelijk aan:\n",
    "$\\frac{67}{1,72^2}=22,65$\n",
    "\n",
    "Alhoewel de BMI niet altijd even betrouwbaar is hanteert men volgende tabel om de BMI te interpreteren.\n",
    "\n",
    "| BMI | Interpretatie |\n",
    "   ----------------  |  ------------- \n",
    "| 18,5 tot en met 25 | Normaal gewicht |\n",
    "| 25 tot en met 27 | Licht overgewicht |\n",
    "| 27 tot en met 30 | Matig overgewicht |\n",
    "| 30 tot en met 40 | Ernstig overgewicht |\n",
    "| Meer dan 40      | Ziekelijk overgewicht\n",
    "\n",
    "Het bestand BMI.csv bevat lengtes en gewichten van personen die tijdens een steekproef werden opgemeten.\n",
    "\n",
    "a. Voeg een kolom toe aan de dataset met daarin het berekende BMI van elke persoon. Gebruik daarvoor\n",
    "    de pandas insert functie: dataset.insert(). Zie: https://pandas.pydata.org/pandas-docs/stable/reference/api/pandas.DataFrame.insert.html\n",
    "    \n",
    "b. Teken een histogram van alle BMI waarden en ga na of deze normaal verdeeld zijn. \n",
    "    Bepaal daarvoor het gemiddelde en de standaardafwijking. Teken nu bovenop het histogram de theoretische normaalverdeling die overeen komt met het bekomen gemiddelde en de standaardafwijking. Ga ook na of ongeveer 68% van de BMI waarden binnen 1 standaardafwijking van het gemiddelde liggen en ongeveer 95 procent van de BMI waarden binnen de 2 standaardafwijkingen van het gemiddelde.\n",
    "    \n",
    "c. Herhaal het gevraagde onder vraag b, maar splits op in mannen en vrouwen. Op deze manier kunnen we straks per geslacht aparte conclusies trekken.\n",
    "    \n",
    "d. Is er een groot verschil tussen de distributie van het BMI van mannen en deze van vrouwen?\n",
    "    \n",
    "e. Hoeveel procent van de populatie (niet de steekproef) mannen heeft minstens te maken met een ernstig overgewicht? En hoeveel procent van de vrouwen?\n",
    "    \n",
    "f. Hoeveel procent van de populatie (niet de steekproef) mannen heeft een ondergewicht? En hoeveel procent van de vrouwen? Veronderstel dat de steekproef representatief is voor de populatie.\n",
    "    \n",
    "g. Ga na of er uitschieters in de dataset aanwezig zijn. Uitschieters kan je hier beschouwen als de BMI gewichten die meer dan 3 standaardafwijkingen van het gemiddelde liggen.\n"
   ]
  },
  {
   "cell_type": "code",
   "execution_count": 50,
   "metadata": {},
   "outputs": [
    {
     "data": {
      "text/html": [
       "<div>\n",
       "<style scoped>\n",
       "    .dataframe tbody tr th:only-of-type {\n",
       "        vertical-align: middle;\n",
       "    }\n",
       "\n",
       "    .dataframe tbody tr th {\n",
       "        vertical-align: top;\n",
       "    }\n",
       "\n",
       "    .dataframe thead th {\n",
       "        text-align: right;\n",
       "    }\n",
       "</style>\n",
       "<table border=\"1\" class=\"dataframe\">\n",
       "  <thead>\n",
       "    <tr style=\"text-align: right;\">\n",
       "      <th></th>\n",
       "      <th>Gewicht</th>\n",
       "      <th>Lengte</th>\n",
       "      <th>Geslacht</th>\n",
       "    </tr>\n",
       "  </thead>\n",
       "  <tbody>\n",
       "    <tr>\n",
       "      <th>0</th>\n",
       "      <td>65.6</td>\n",
       "      <td>174.0</td>\n",
       "      <td>man</td>\n",
       "    </tr>\n",
       "    <tr>\n",
       "      <th>1</th>\n",
       "      <td>71.8</td>\n",
       "      <td>175.3</td>\n",
       "      <td>man</td>\n",
       "    </tr>\n",
       "    <tr>\n",
       "      <th>2</th>\n",
       "      <td>80.7</td>\n",
       "      <td>193.5</td>\n",
       "      <td>man</td>\n",
       "    </tr>\n",
       "    <tr>\n",
       "      <th>3</th>\n",
       "      <td>72.6</td>\n",
       "      <td>186.5</td>\n",
       "      <td>man</td>\n",
       "    </tr>\n",
       "    <tr>\n",
       "      <th>4</th>\n",
       "      <td>78.8</td>\n",
       "      <td>187.2</td>\n",
       "      <td>man</td>\n",
       "    </tr>\n",
       "  </tbody>\n",
       "</table>\n",
       "</div>"
      ],
      "text/plain": [
       "   Gewicht  Lengte Geslacht\n",
       "0     65.6   174.0      man\n",
       "1     71.8   175.3      man\n",
       "2     80.7   193.5      man\n",
       "3     72.6   186.5      man\n",
       "4     78.8   187.2      man"
      ]
     },
     "execution_count": 50,
     "metadata": {},
     "output_type": "execute_result"
    }
   ],
   "source": [
    "# Inlezen van de dataset\n",
    "\n",
    "dataset = pd.read_csv('BMI.csv')\n",
    "dataset.head()"
   ]
  },
  {
   "cell_type": "code",
   "execution_count": 51,
   "metadata": {},
   "outputs": [
    {
     "data": {
      "text/html": [
       "<div>\n",
       "<style scoped>\n",
       "    .dataframe tbody tr th:only-of-type {\n",
       "        vertical-align: middle;\n",
       "    }\n",
       "\n",
       "    .dataframe tbody tr th {\n",
       "        vertical-align: top;\n",
       "    }\n",
       "\n",
       "    .dataframe thead th {\n",
       "        text-align: right;\n",
       "    }\n",
       "</style>\n",
       "<table border=\"1\" class=\"dataframe\">\n",
       "  <thead>\n",
       "    <tr style=\"text-align: right;\">\n",
       "      <th></th>\n",
       "      <th>Gewicht</th>\n",
       "      <th>Lengte</th>\n",
       "      <th>Bmi</th>\n",
       "      <th>Geslacht</th>\n",
       "    </tr>\n",
       "  </thead>\n",
       "  <tbody>\n",
       "    <tr>\n",
       "      <th>0</th>\n",
       "      <td>65.6</td>\n",
       "      <td>174.0</td>\n",
       "      <td>21.667327</td>\n",
       "      <td>man</td>\n",
       "    </tr>\n",
       "    <tr>\n",
       "      <th>1</th>\n",
       "      <td>71.8</td>\n",
       "      <td>175.3</td>\n",
       "      <td>23.364722</td>\n",
       "      <td>man</td>\n",
       "    </tr>\n",
       "    <tr>\n",
       "      <th>2</th>\n",
       "      <td>80.7</td>\n",
       "      <td>193.5</td>\n",
       "      <td>21.553192</td>\n",
       "      <td>man</td>\n",
       "    </tr>\n",
       "    <tr>\n",
       "      <th>3</th>\n",
       "      <td>72.6</td>\n",
       "      <td>186.5</td>\n",
       "      <td>20.872715</td>\n",
       "      <td>man</td>\n",
       "    </tr>\n",
       "    <tr>\n",
       "      <th>4</th>\n",
       "      <td>78.8</td>\n",
       "      <td>187.2</td>\n",
       "      <td>22.486120</td>\n",
       "      <td>man</td>\n",
       "    </tr>\n",
       "  </tbody>\n",
       "</table>\n",
       "</div>"
      ],
      "text/plain": [
       "   Gewicht  Lengte        Bmi Geslacht\n",
       "0     65.6   174.0  21.667327      man\n",
       "1     71.8   175.3  23.364722      man\n",
       "2     80.7   193.5  21.553192      man\n",
       "3     72.6   186.5  20.872715      man\n",
       "4     78.8   187.2  22.486120      man"
      ]
     },
     "execution_count": 51,
     "metadata": {},
     "output_type": "execute_result"
    }
   ],
   "source": [
    "# a. Voeg een kolom toe aan de dataset met daarin het berekende BMI van elke persoon...\n",
    "dataset.insert(2, 'Bmi', 10, True)\n",
    "dataset['Bmi'] = dataset['Gewicht'] / (dataset['Lengte']/100) ** 2\n",
    "dataset.head()"
   ]
  },
  {
   "cell_type": "code",
   "execution_count": 105,
   "metadata": {},
   "outputs": [],
   "source": [
    "# Create function to show histogram and compare with norm-dist patterns\n",
    "def validate_histogram(bmi_values):\n",
    "    bin_width = (max(bmi_values)-min(bmi_values)) / math.sqrt(len(bmi_values))\n",
    "    bins = np.arange(min(bmi_values), max(bmi_values) + bin_width, bin_width) # set bins, using the np.arrange\n",
    "    print('Klassebreedte bepaald op ', bin_width)\n",
    "\n",
    "    fig, ax = plt.subplots(ncols=1)\n",
    "    cumulative_x_graph = ax.twinx()\n",
    "    # Plot histogram with bins on graph\n",
    "    ax.hist(\n",
    "        dataset['Bmi'],\n",
    "        # Bins can be specified, otherwise the Freedman-diaconis rule is used\n",
    "        bins = bins,\n",
    "        cumulative = False,\n",
    "        histtype='stepfilled'\n",
    "    )\n",
    "    # Plot cumulative graph as well\n",
    "    cumulative_x_graph.hist(\n",
    "        dataset['Bmi'],\n",
    "        # Bins can be specified, otherwise the Freedman-diaconis rule is used\n",
    "        bins = bins,\n",
    "        cumulative = True,\n",
    "        histtype='step',\n",
    "        color='#E13F29'\n",
    "    )\n",
    "\n",
    "    bmi_stdev = bmi_values.std()\n",
    "    bmi_mean = bmi_values.mean()\n",
    "    bmi_count = float(bmi_values.count())\n",
    "    bmi_median = bmi_values.median()\n",
    "    print('Mediaan tov gemiddelde: ', bmi_median, bmi_mean)\n",
    "    # Calculating the number of records that are in the range of 1, 2 and 3 stddev's around the mean\n",
    "    count1 = bmi_values[bmi_values > bmi_mean - (bmi_stdev * 1)][bmi_values < bmi_mean + (bmi_stdev * 1)].count()\n",
    "    count2 = bmi_values[bmi_values > bmi_mean - (bmi_stdev * 2)][bmi_values < bmi_mean + (bmi_stdev * 2)].count()\n",
    "    count3 = bmi_values[bmi_values > bmi_mean - (bmi_stdev * 3)][bmi_values < bmi_mean + (bmi_stdev * 3)].count()\n",
    "    print('Percentage waardes binnen 1 std afwijking van het gemiddelde: ', \"{0:.2%}\".format(count1 / bmi_count))\n",
    "    print('Percentage waardes binnen 2 std afwijking van het gemiddelde: ', \"{0:.2%}\".format(count2 / bmi_count))\n",
    "    print('Percentage waardes binnen 3 std afwijking van het gemiddelde: ', \"{0:.2%}\".format(count3 / bmi_count))"
   ]
  },
  {
   "cell_type": "code",
   "execution_count": 106,
   "metadata": {},
   "outputs": [
    {
     "name": "stdout",
     "output_type": "stream",
     "text": [
      "Verdeling van alle waardes\n",
      "Klassebreedte bepaald op  0.9466594270103044\n",
      "Mediaan tov gemiddelde:  23.163254329664024 23.463384417269726\n",
      "Percentage waardes binnen 1 std afwijking van het gemiddelde:  70.02%\n",
      "Percentage waardes binnen 2 std afwijking van het gemiddelde:  96.25%\n",
      "Percentage waardes binnen 3 std afwijking van het gemiddelde:  99.41%\n"
     ]
    },
    {
     "data": {
      "image/png": "[encoded data removed]",
      "text/plain": [
       "<Figure size 432x288 with 2 Axes>"
      ]
     },
     "metadata": {
      "needs_background": "light"
     },
     "output_type": "display_data"
    }
   ],
   "source": [
    "# b. Teken een histogram van alle BMI waarden en ga na of deze normaal verdeeld zijn...\n",
    "print('Verdeling van alle waardes')\n",
    "validate_histogram(dataset['Bmi'])\n"
   ]
  },
  {
   "cell_type": "code",
   "execution_count": 107,
   "metadata": {},
   "outputs": [
    {
     "name": "stdout",
     "output_type": "stream",
     "text": [
      "Verdeling van alle waardes voor vrouwen\n",
      "Klassebreedte bepaald op  1.3219379478468654\n",
      "Mediaan tov gemiddelde:  21.783033454346754 22.277930738754797\n",
      "Percentage waardes binnen 1 std afwijking van het gemiddelde:  75.77%\n",
      "Percentage waardes binnen 2 std afwijking van het gemiddelde:  94.62%\n",
      "Percentage waardes binnen 3 std afwijking van het gemiddelde:  98.46%\n",
      "\n",
      "Verdeling van alle waardes voor mannen\n",
      "Klassebreedte bepaald op  1.1754410599549239\n",
      "Mediaan tov gemiddelde:  24.30398370303305 24.711230394653864\n",
      "Percentage waardes binnen 1 std afwijking van het gemiddelde:  70.85%\n",
      "Percentage waardes binnen 2 std afwijking van het gemiddelde:  96.36%\n",
      "Percentage waardes binnen 3 std afwijking van het gemiddelde:  99.60%\n"
     ]
    },
    {
     "data": {
      "image/png": "[encoded data removed]",
      "text/plain": [
       "<Figure size 432x288 with 2 Axes>"
      ]
     },
     "metadata": {
      "needs_background": "light"
     },
     "output_type": "display_data"
    },
    {
     "data": {
      "image/png": "[encoded data removed]",
      "text/plain": [
       "<Figure size 432x288 with 2 Axes>"
      ]
     },
     "metadata": {
      "needs_background": "light"
     },
     "output_type": "display_data"
    }
   ],
   "source": [
    "# c. Herhaal het gevraagde onder vraag b, maar splits op in mannen en vrouwen... \n",
    "print('Verdeling van alle waardes voor vrouwen')\n",
    "validate_histogram(dataset.loc[dataset['Geslacht'] == 'vrouw']['Bmi'])\n",
    "print()\n",
    "print('Verdeling van alle waardes voor mannen')\n",
    "validate_histogram(dataset.loc[dataset['Geslacht'] == 'man']['Bmi'])\n"
   ]
  },
  {
   "cell_type": "code",
   "execution_count": 15,
   "metadata": {},
   "outputs": [],
   "source": [
    "# d. Is er een groot verschil tussen de distributie van het BMI van mannen en deze van vrouwen? Verklaar ...\n"
   ]
  },
  {
   "cell_type": "markdown",
   "metadata": {},
   "source": [
    "Het lijkt alsof de verdeling van de mannen meer voldoet aan een normaalverdeling dan bij de vrouwen.  \n",
    "- De mediaan ligt veel dichter bij het gemiddelde\n",
    "- Het aantal waardes binnen het interval van 1 standaard afwijking rond het gemiddelde benaderen veel meer de 68% dan bij de vrouwen\n",
    "- Wel lijkt het alsof de waardes van de 2 standaardafwijkingen rond het gemiddelde dan iets verder van de 95% liggen\n",
    "- De algemene verdeling (over geslachten heen) lijkt iets meer normaalverdeeld."
   ]
  },
  {
   "cell_type": "code",
   "execution_count": 122,
   "metadata": {},
   "outputs": [
    {
     "name": "stdout",
     "output_type": "stream",
     "text": [
      "24.711230394653864 22.277930738754797 2.844989378818533 3.2169287040929824\n",
      "Percentage mannen met ernstige overgewicht (ziekelijk uitgesloten):  3.15%\n",
      "Percentage vrouwen met ernstige overgewicht (ziekelijk uitgesloten):  0.82%\n"
     ]
    }
   ],
   "source": [
    "# e. Hoeveel procent van de populatie (niet de steekproef) mannen heeft minstens te maken met \n",
    "#    een ernstig overgewicht? En hoeveel procent van de vrouwen?\n",
    "\n",
    "# We gaan dus uit van normaalverdeling\n",
    "male_bmi_mean = dataset.loc[dataset['Geslacht'] == 'man']['Bmi'].mean()\n",
    "male_bmi_stddev = dataset.loc[dataset['Geslacht'] == 'man']['Bmi'].std()\n",
    "female_bmi_mean = dataset.loc[dataset['Geslacht'] == 'vrouw']['Bmi'].mean()\n",
    "female_bmi_stddev = dataset.loc[dataset['Geslacht'] == 'vrouw']['Bmi'].std()\n",
    "#ernstig overgewicht : bmi in [30,40]\n",
    "print('Percentage mannen met ernstige overgewicht (ziekelijk uitgesloten): ', \"{0:.2%}\".format(stats.norm.cdf(x=40, loc=male_bmi_mean, scale=male_bmi_stddev)-stats.norm.cdf(x=30, loc=male_bmi_mean, scale=male_bmi_stddev)))\n",
    "print('Percentage vrouwen met ernstige overgewicht (ziekelijk uitgesloten): ', \"{0:.2%}\".format(stats.norm.cdf(x=40, loc=female_bmi_mean, scale=female_bmi_stddev)-stats.norm.cdf(x=30, loc=female_bmi_mean, scale=female_bmi_stddev)))"
   ]
  },
  {
   "cell_type": "code",
   "execution_count": 123,
   "metadata": {},
   "outputs": [
    {
     "name": "stdout",
     "output_type": "stream",
     "text": [
      "Percentage mannen met ondergewicht (bmi < 18.5):  1.45%\n",
      "Percentage vrouwen met ondergewicht (bmi < 18.5):  12.01%\n"
     ]
    }
   ],
   "source": [
    "# f. Hoeveel procent van de populatie (niet de steekproef) mannen heeft een ondergewicht? \n",
    "#    En hoeveel procent van de vrouwen? Veronderstel dat de steekproef representatief is voor de populatie.\n",
    "#ernstig overgewicht : bmi in [30,40]\n",
    "print('Percentage mannen met ondergewicht (bmi < 18.5): ', \"{0:.2%}\".format(stats.norm.cdf(x=18.5, loc=male_bmi_mean, scale=male_bmi_stddev)))\n",
    "print('Percentage vrouwen met ondergewicht (bmi < 18.5): ', \"{0:.2%}\".format(stats.norm.cdf(x=18.5, loc=female_bmi_mean, scale=female_bmi_stddev)))"
   ]
  },
  {
   "cell_type": "code",
   "execution_count": 126,
   "metadata": {},
   "outputs": [
    {
     "name": "stdout",
     "output_type": "stream",
     "text": [
      "0\n"
     ]
    }
   ],
   "source": [
    "# g. Ga na of er uitschieters in de dataset aanwezig zijn. \n",
    "#    Uitschieters kan je hier beschouwen als de BMI gewichten die meer dan 3 standaardafwijkingen\n",
    "#    van het gemiddelde liggen.\n",
    "bmi_stdev = bmi_values.std()\n",
    "bmi_mean = bmi_values.mean()\n",
    "bmi_outliers = bmi_values[bmi_values < (bmi_mean - (bmi_stdev * 3))][bmi_values > (bmi_mean + (bmi_stdev * 3))]\n",
    "print(bmi_outliers.count())\n",
    "print('Er lijken geen outliers te zijn in de dataset')"
   ]
  }
 ],
 "metadata": {
  "kernelspec": {
   "display_name": "Python 3",
   "language": "python",
   "name": "python3"
  },
  "language_info": {
   "codemirror_mode": {
    "name": "ipython",
    "version": 3
   },
   "file_extension": ".py",
   "mimetype": "text/x-python",
   "name": "python",
   "nbconvert_exporter": "python",
   "pygments_lexer": "ipython3",
   "version": "3.6.6"
  }
 },
 "nbformat": 4,
 "nbformat_minor": 2
}
